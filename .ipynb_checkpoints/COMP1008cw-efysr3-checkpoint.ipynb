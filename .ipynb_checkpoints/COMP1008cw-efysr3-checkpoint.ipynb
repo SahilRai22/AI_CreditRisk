{
 "cells": [
  {
   "cell_type": "markdown",
   "metadata": {},
   "source": [
    "# COMP1008 2020/21 Coursework - Credit Risk Prediction\n",
    "<b>Student Name</b>: Sahil Rai<br>\n",
    "<b>Student ID</b>: 20186501\n",
    "\n",
    "## Task description\n",
    "\n",
    "Credit scoring is an analysis by financial institutions to valuate a person's or business creditworthiness. You will work on a credit risk classification task based on a given dataset of 1000 customers' records collected at a bank. The aim is to help the bank manager to predict the credit risk of new customers and make better decisions on approving their loan applications.\n",
    "- <b>Dataset</b>: <a href=\"https://moodle.nottingham.ac.uk/pluginfile.php/7184288/mod_tabbedcontent/tabcontent/21279/data-CreditRisk.xls\">data-CreditRisk.xls</a>, available in Moodle COMP1008 page ('Course Content / Assessment')\n",
    "- Coursework issue <a href=\"https://moodle.nottingham.ac.uk/pluginfile.php/7184288/mod_tabbedcontent/tabcontent/21279/Assessment%20Sheet%20COMP1008.docx\">form</a>\n",
    "\n",
    "Use this Jupyter Notebook file 'COMP1008cw.ipynb' as the template to write your report, answering the below questions and displaying the corresponding codes which support your answers."
   ]
  },
  {
   "cell_type": "code",
   "execution_count": 164,
   "metadata": {},
   "outputs": [],
   "source": [
    "import numpy as np \n",
    "import matplotlib.pyplot as plt\n",
    "import pandas as pd\n",
    "import random\n",
    "from matplotlib.pyplot import pie, axis, show"
   ]
  },
  {
   "cell_type": "code",
   "execution_count": 165,
   "metadata": {},
   "outputs": [],
   "source": [
    "df = pd.read_excel('data-CreditRisk.xls')"
   ]
  },
  {
   "cell_type": "markdown",
   "metadata": {},
   "source": [
    "## Question 1. Data Analysis and Preparation (6 marks)"
   ]
  },
  {
   "cell_type": "markdown",
   "metadata": {},
   "source": [
    "### 1a. Basic data analysis and plottings\n",
    "Display your code and the appropriate plottings to support your answers to the following questions:\n",
    "- Are most of the existing customers 'good' or 'bad' customers? [0.5 marks]<br>\n",
    "- Are customers with shorter durations more likely to have good or bad credit? [0.5 marks]"
   ]
  },
  {
   "cell_type": "markdown",
   "metadata": {},
   "source": [
    "<b>Answers</b>: \n",
    "- Most existing customers are 'good' customers\n",
    "- Customers with very low durations have very low Credit Amount which can signify to have more 'good credit"
   ]
  },
  {
   "cell_type": "code",
   "execution_count": 166,
   "metadata": {},
   "outputs": [
    {
     "name": "stdout",
     "output_type": "stream",
     "text": [
      "{'good': 700, 'bad': 300}\n"
     ]
    }
   ],
   "source": [
    "Counter = df['Risk'].value_counts().to_dict()\n",
    "print(Counter)"
   ]
  },
  {
   "cell_type": "code",
   "execution_count": 167,
   "metadata": {},
   "outputs": [
    {
     "data": {
      "text/plain": [
       "Text(0, 0.5, 'Credit Amount')"
      ]
     },
     "execution_count": 167,
     "metadata": {},
     "output_type": "execute_result"
    },
    {
     "data": {
      "image/png": "[encoded data removed]",
      "text/plain": [
       "<Figure size 432x288 with 1 Axes>"
      ]
     },
     "metadata": {
      "needs_background": "light"
     },
     "output_type": "display_data"
    }
   ],
   "source": [
    "df.plot(x='Duration', y='CreditAmount', style='.')\n",
    "plt.xlabel('Duration')\n",
    "plt.ylabel('Credit Amount')"
   ]
  },
  {
   "cell_type": "markdown",
   "metadata": {},
   "source": [
    "Do male or female customers have higher CreditAmount on average? Do good customers have higher CreditAmount on average than bad customers? Disply the code and appropriate plottings to support your answers. [1 mark]"
   ]
  },
  {
   "cell_type": "code",
   "execution_count": 168,
   "metadata": {},
   "outputs": [
    {
     "name": "stdout",
     "output_type": "stream",
     "text": [
      "Female Customer Average: 2877.7741935483873\n",
      "Male Customer Average: 3456.3216885007278\n",
      "Bad Customer Average: 3948.1304347826085\n",
      "Good Customer Average: 2988.699140401146\n"
     ]
    }
   ],
   "source": [
    "Female_df = df.drop(df[df.Sex == 'male'].index)\n",
    "Male_df = df.drop(df[df.Sex == 'female'].index)\n",
    "Bad_df = df.drop(df[df.Risk == 'good'].index)\n",
    "Good_df = df.drop(df[df.Risk == 'bad'].index)\n",
    "\n",
    "# Averages for Sex\n",
    "Female_avg = Female_df['CreditAmount'].mean()\n",
    "print('Female Customer Average:',Female_avg)\n",
    "Male_avg = Male_df['CreditAmount'].mean()\n",
    "print('Male Customer Average:',Male_avg)\n",
    "\n",
    "#Averages for Risk\n",
    "Bad_avg = Bad_df['CreditAmount'].mean()\n",
    "print('Bad Customer Average:',Bad_avg)\n",
    "Good_avg = Good_df['CreditAmount'].mean()\n",
    "print('Good Customer Average:',Good_avg)"
   ]
  },
  {
   "cell_type": "markdown",
   "metadata": {},
   "source": [
    "<b>Answers</b>: \n",
    "- On Average Male customers have a higher average credit amount of 3456.3 & Female customers have 2877.8. \n",
    "- On Average Bad customers have a higher average credit amount of 3948.1 & Good customers have 2988.7. "
   ]
  },
  {
   "cell_type": "markdown",
   "metadata": {},
   "source": [
    "Analyse 'Housing' against customers' credit risks. Among customers of different 'Housing' types, which are more likely to have good credits? Provide the codea dn appropriate plotting(s) to support your answers. [0.5 marks]"
   ]
  },
  {
   "cell_type": "markdown",
   "metadata": {},
   "source": [
    "<b>Answers</b>: \n",
    "- All housing types are more likely to have good credit rather than bad, Owned housing types are most likely to have good credit "
   ]
  },
  {
   "cell_type": "code",
   "execution_count": 169,
   "metadata": {},
   "outputs": [
    {
     "name": "stdout",
     "output_type": "stream",
     "text": [
      "Housing among bad credit risk: {'own': 186, 'rent': 70, 'free': 44}\n",
      "Housing among good credit risk: {'own': 527, 'rent': 109, 'free': 64}\n"
     ]
    }
   ],
   "source": [
    "Counter_BadH = Bad_df['Housing'].value_counts().to_dict()\n",
    "print('Housing among bad credit risk:', Counter_BadH)\n",
    "Counter_GoodH = Good_df['Housing'].value_counts().to_dict()\n",
    "print('Housing among good credit risk:', Counter_GoodH)"
   ]
  },
  {
   "cell_type": "markdown",
   "metadata": {},
   "source": [
    "### 1b. Data Pre-processing\n",
    "\n",
    "What issues do you observe in which of the input features in the data? Show the codes which detect these issues. What potential issues this may cause if the data is not pre-processed or processed inappropriately? [1 mark]<br>"
   ]
  },
  {
   "cell_type": "markdown",
   "metadata": {},
   "source": [
    "<b>Answers</b>: \n",
    "- Job, SavingAccounts, CheckingAccount, CreditAmount, Duration all have null values present in their set"
   ]
  },
  {
   "cell_type": "code",
   "execution_count": 170,
   "metadata": {},
   "outputs": [
    {
     "data": {
      "text/html": [
       "<div>\n",
       "<style scoped>\n",
       "    .dataframe tbody tr th:only-of-type {\n",
       "        vertical-align: middle;\n",
       "    }\n",
       "\n",
       "    .dataframe tbody tr th {\n",
       "        vertical-align: top;\n",
       "    }\n",
       "\n",
       "    .dataframe thead th {\n",
       "        text-align: right;\n",
       "    }\n",
       "</style>\n",
       "<table border=\"1\" class=\"dataframe\">\n",
       "  <thead>\n",
       "    <tr style=\"text-align: right;\">\n",
       "      <th></th>\n",
       "      <th>ID</th>\n",
       "      <th>Age</th>\n",
       "      <th>Sex</th>\n",
       "      <th>Job</th>\n",
       "      <th>Housing</th>\n",
       "      <th>SavingAccounts</th>\n",
       "      <th>CheckAccount</th>\n",
       "      <th>CreditAmount</th>\n",
       "      <th>Duration</th>\n",
       "      <th>Purpose</th>\n",
       "      <th>Risk</th>\n",
       "    </tr>\n",
       "  </thead>\n",
       "  <tbody>\n",
       "    <tr>\n",
       "      <th>0</th>\n",
       "      <td>False</td>\n",
       "      <td>False</td>\n",
       "      <td>False</td>\n",
       "      <td>False</td>\n",
       "      <td>False</td>\n",
       "      <td>True</td>\n",
       "      <td>False</td>\n",
       "      <td>False</td>\n",
       "      <td>False</td>\n",
       "      <td>False</td>\n",
       "      <td>False</td>\n",
       "    </tr>\n",
       "    <tr>\n",
       "      <th>1</th>\n",
       "      <td>False</td>\n",
       "      <td>False</td>\n",
       "      <td>False</td>\n",
       "      <td>False</td>\n",
       "      <td>False</td>\n",
       "      <td>False</td>\n",
       "      <td>False</td>\n",
       "      <td>False</td>\n",
       "      <td>False</td>\n",
       "      <td>False</td>\n",
       "      <td>False</td>\n",
       "    </tr>\n",
       "    <tr>\n",
       "      <th>2</th>\n",
       "      <td>False</td>\n",
       "      <td>False</td>\n",
       "      <td>False</td>\n",
       "      <td>False</td>\n",
       "      <td>False</td>\n",
       "      <td>False</td>\n",
       "      <td>True</td>\n",
       "      <td>False</td>\n",
       "      <td>False</td>\n",
       "      <td>False</td>\n",
       "      <td>False</td>\n",
       "    </tr>\n",
       "    <tr>\n",
       "      <th>3</th>\n",
       "      <td>False</td>\n",
       "      <td>False</td>\n",
       "      <td>False</td>\n",
       "      <td>False</td>\n",
       "      <td>False</td>\n",
       "      <td>False</td>\n",
       "      <td>False</td>\n",
       "      <td>False</td>\n",
       "      <td>False</td>\n",
       "      <td>False</td>\n",
       "      <td>False</td>\n",
       "    </tr>\n",
       "    <tr>\n",
       "      <th>4</th>\n",
       "      <td>False</td>\n",
       "      <td>False</td>\n",
       "      <td>False</td>\n",
       "      <td>False</td>\n",
       "      <td>False</td>\n",
       "      <td>False</td>\n",
       "      <td>False</td>\n",
       "      <td>False</td>\n",
       "      <td>False</td>\n",
       "      <td>False</td>\n",
       "      <td>False</td>\n",
       "    </tr>\n",
       "    <tr>\n",
       "      <th>...</th>\n",
       "      <td>...</td>\n",
       "      <td>...</td>\n",
       "      <td>...</td>\n",
       "      <td>...</td>\n",
       "      <td>...</td>\n",
       "      <td>...</td>\n",
       "      <td>...</td>\n",
       "      <td>...</td>\n",
       "      <td>...</td>\n",
       "      <td>...</td>\n",
       "      <td>...</td>\n",
       "    </tr>\n",
       "    <tr>\n",
       "      <th>995</th>\n",
       "      <td>False</td>\n",
       "      <td>False</td>\n",
       "      <td>False</td>\n",
       "      <td>False</td>\n",
       "      <td>False</td>\n",
       "      <td>False</td>\n",
       "      <td>True</td>\n",
       "      <td>False</td>\n",
       "      <td>True</td>\n",
       "      <td>False</td>\n",
       "      <td>False</td>\n",
       "    </tr>\n",
       "    <tr>\n",
       "      <th>996</th>\n",
       "      <td>False</td>\n",
       "      <td>False</td>\n",
       "      <td>False</td>\n",
       "      <td>False</td>\n",
       "      <td>False</td>\n",
       "      <td>False</td>\n",
       "      <td>False</td>\n",
       "      <td>False</td>\n",
       "      <td>False</td>\n",
       "      <td>False</td>\n",
       "      <td>False</td>\n",
       "    </tr>\n",
       "    <tr>\n",
       "      <th>997</th>\n",
       "      <td>False</td>\n",
       "      <td>False</td>\n",
       "      <td>False</td>\n",
       "      <td>False</td>\n",
       "      <td>False</td>\n",
       "      <td>False</td>\n",
       "      <td>False</td>\n",
       "      <td>False</td>\n",
       "      <td>False</td>\n",
       "      <td>False</td>\n",
       "      <td>False</td>\n",
       "    </tr>\n",
       "    <tr>\n",
       "      <th>998</th>\n",
       "      <td>False</td>\n",
       "      <td>False</td>\n",
       "      <td>False</td>\n",
       "      <td>False</td>\n",
       "      <td>False</td>\n",
       "      <td>True</td>\n",
       "      <td>False</td>\n",
       "      <td>False</td>\n",
       "      <td>False</td>\n",
       "      <td>False</td>\n",
       "      <td>False</td>\n",
       "    </tr>\n",
       "    <tr>\n",
       "      <th>999</th>\n",
       "      <td>False</td>\n",
       "      <td>False</td>\n",
       "      <td>False</td>\n",
       "      <td>False</td>\n",
       "      <td>False</td>\n",
       "      <td>False</td>\n",
       "      <td>False</td>\n",
       "      <td>False</td>\n",
       "      <td>False</td>\n",
       "      <td>False</td>\n",
       "      <td>False</td>\n",
       "    </tr>\n",
       "  </tbody>\n",
       "</table>\n",
       "<p>1000 rows × 11 columns</p>\n",
       "</div>"
      ],
      "text/plain": [
       "        ID    Age    Sex    Job  Housing  SavingAccounts  CheckAccount  \\\n",
       "0    False  False  False  False    False            True         False   \n",
       "1    False  False  False  False    False           False         False   \n",
       "2    False  False  False  False    False           False          True   \n",
       "3    False  False  False  False    False           False         False   \n",
       "4    False  False  False  False    False           False         False   \n",
       "..     ...    ...    ...    ...      ...             ...           ...   \n",
       "995  False  False  False  False    False           False          True   \n",
       "996  False  False  False  False    False           False         False   \n",
       "997  False  False  False  False    False           False         False   \n",
       "998  False  False  False  False    False            True         False   \n",
       "999  False  False  False  False    False           False         False   \n",
       "\n",
       "     CreditAmount  Duration  Purpose   Risk  \n",
       "0           False     False    False  False  \n",
       "1           False     False    False  False  \n",
       "2           False     False    False  False  \n",
       "3           False     False    False  False  \n",
       "4           False     False    False  False  \n",
       "..            ...       ...      ...    ...  \n",
       "995         False      True    False  False  \n",
       "996         False     False    False  False  \n",
       "997         False     False    False  False  \n",
       "998         False     False    False  False  \n",
       "999         False     False    False  False  \n",
       "\n",
       "[1000 rows x 11 columns]"
      ]
     },
     "execution_count": 170,
     "metadata": {},
     "output_type": "execute_result"
    }
   ],
   "source": [
    "df.isnull() #useful to show where there is Null data"
   ]
  },
  {
   "cell_type": "code",
   "execution_count": 171,
   "metadata": {},
   "outputs": [
    {
     "data": {
      "text/plain": [
       "ID                  0\n",
       "Age                 0\n",
       "Sex                 0\n",
       "Job                 4\n",
       "Housing             0\n",
       "SavingAccounts    183\n",
       "CheckAccount      394\n",
       "CreditAmount        3\n",
       "Duration            5\n",
       "Purpose             0\n",
       "Risk                0\n",
       "dtype: int64"
      ]
     },
     "execution_count": 171,
     "metadata": {},
     "output_type": "execute_result"
    }
   ],
   "source": [
    "df.isnull().sum() #sums it up to get an overview "
   ]
  },
  {
   "cell_type": "markdown",
   "metadata": {},
   "source": [
    "Show the steps of code to address the above observed issues with features. Briefly explain the reason to support your selected functions / methods. [1 mark]"
   ]
  },
  {
   "cell_type": "markdown",
   "metadata": {},
   "source": [
    "<b>Answers</b>: \n",
    "I have chosen to fill in NA values with median data this is because:\n",
    "- Picking random value has a possibility of choosing NA value again \n",
    "- Median data wont have a large significant effect on the average "
   ]
  },
  {
   "cell_type": "code",
   "execution_count": 172,
   "metadata": {},
   "outputs": [
    {
     "data": {
      "text/plain": [
       "ID              0\n",
       "Age             0\n",
       "Sex             0\n",
       "Job             0\n",
       "Housing         0\n",
       "CreditAmount    0\n",
       "Duration        0\n",
       "Purpose         0\n",
       "Risk            0\n",
       "dtype: int64"
      ]
     },
     "execution_count": 172,
     "metadata": {},
     "output_type": "execute_result"
    }
   ],
   "source": [
    "# Dropping data without numeric value, wont really help with the stats\n",
    "df = df.drop(['SavingAccounts', 'CheckAccount'], axis = 1) \n",
    "\n",
    "# Filling in possible numerical data with median data \n",
    "Job_m = df['Job'].median()\n",
    "CrA_m = df['CreditAmount'].median()\n",
    "D_m = df['Duration'].median()\n",
    "\n",
    "df['Job'].fillna(Job_m, inplace = True)\n",
    "df['CreditAmount'].fillna(CrA_m, inplace = True)\n",
    "df['Duration'].fillna(D_m, inplace = True)\n",
    "df.isnull().sum()"
   ]
  },
  {
   "cell_type": "code",
   "execution_count": null,
   "metadata": {},
   "outputs": [],
   "source": []
  },
  {
   "cell_type": "markdown",
   "metadata": {},
   "source": [
    "Prepare the data ready for building the machine learning models in Questions 2 and 3. Show and explain the functions / methods. Why this preparation is needed? [1.5 marks]<br>\n",
    "Note: include here all your data pre-processing steps needed for building all models in Questions 2 and 3."
   ]
  },
  {
   "cell_type": "code",
   "execution_count": 153,
   "metadata": {},
   "outputs": [],
   "source": [
    "CrA_m = df['CreditAmount'].median()\n",
    "df['CreditAmount'].fillna(CrA_m, inplace = True)"
   ]
  },
  {
   "cell_type": "markdown",
   "metadata": {},
   "source": [
    "<b>Answers</b>: "
   ]
  },
  {
   "cell_type": "code",
   "execution_count": null,
   "metadata": {},
   "outputs": [],
   "source": [
    "# Code: "
   ]
  },
  {
   "cell_type": "markdown",
   "metadata": {},
   "source": [
    "## Question 2. Artificial Neural Networks (ANN) (7 marks)"
   ]
  },
  {
   "cell_type": "markdown",
   "metadata": {},
   "source": [
    "### 2a. Build and evaluate your first ANN (i.e. ann1)\n",
    "Show the steps to build and train <i>ann1</i> with one-hidden layer of 5 neurons. Explain breifly what the input features and/or target output are, and their type and value range, in the training and testing data. [1 mark] <br>\n",
    "Note: if additional data processing is needed, add them to your answers to the last question of Question 1."
   ]
  },
  {
   "cell_type": "markdown",
   "metadata": {},
   "source": [
    "<b>Answers</b>: "
   ]
  },
  {
   "cell_type": "code",
   "execution_count": null,
   "metadata": {},
   "outputs": [],
   "source": [
    "# Code: "
   ]
  },
  {
   "cell_type": "markdown",
   "metadata": {},
   "source": [
    "What's the accuracy of <i>ann1</i>? What does this mean in terms of classifying new customers? [0.5 marks]<br>\n",
    "Show the steps to calculate the accuracy of <i>ann1</i> on the training data and testing data, respectively. Is <i>ann1</i> a good model on classifying new customers? Explain the reasons to support your answers. [1 mark]"
   ]
  },
  {
   "cell_type": "markdown",
   "metadata": {},
   "source": [
    "<b>Answers</b>: "
   ]
  },
  {
   "cell_type": "code",
   "execution_count": null,
   "metadata": {},
   "outputs": [],
   "source": [
    "# Code: "
   ]
  },
  {
   "cell_type": "markdown",
   "metadata": {},
   "source": [
    "Display and explain the confusion matrix of <i>ann1</i>. Is <i>ann1</i> good at predicting 'good' or 'bad' customers? Show the steps which calculate the comparisons. [1 mark]"
   ]
  },
  {
   "cell_type": "markdown",
   "metadata": {},
   "source": [
    "<b>Answers</b>: "
   ]
  },
  {
   "cell_type": "code",
   "execution_count": null,
   "metadata": {},
   "outputs": [],
   "source": [
    "# Code: "
   ]
  },
  {
   "cell_type": "markdown",
   "metadata": {},
   "source": [
    "### 2b. Build and evaluate another ANN (i.e. ann2)\n",
    "Show the steps to build <i>ann2</i> with a different setting (e.g. different no. of hidden layers and / or neurons, etc.). Explain briefly the different setting of <i>ann2</i>. [0.5 marks]"
   ]
  },
  {
   "cell_type": "markdown",
   "metadata": {},
   "source": [
    "<b>Answers</b>: "
   ]
  },
  {
   "cell_type": "code",
   "execution_count": null,
   "metadata": {},
   "outputs": [],
   "source": [
    "# Code: "
   ]
  },
  {
   "cell_type": "markdown",
   "metadata": {},
   "source": [
    "Show the steps to calculate the accuracy of <i>ann2</i> on the training data and testing data, respectively. Is <i>ann2</i> a good model? Explain the reasons. [0.5 marks]<br>"
   ]
  },
  {
   "cell_type": "markdown",
   "metadata": {},
   "source": [
    "<b>Answers</b>: "
   ]
  },
  {
   "cell_type": "code",
   "execution_count": null,
   "metadata": {},
   "outputs": [],
   "source": [
    "# Code: "
   ]
  },
  {
   "cell_type": "markdown",
   "metadata": {},
   "source": [
    "Print and explain the confusion matrix of <i>ann2</i>. Which of <i>ann1</i> and <i>ann2</i> is better, and why? [1 mark]"
   ]
  },
  {
   "cell_type": "markdown",
   "metadata": {},
   "source": [
    "<b>Answers</b>: "
   ]
  },
  {
   "cell_type": "code",
   "execution_count": null,
   "metadata": {},
   "outputs": [],
   "source": [
    "# Code: "
   ]
  },
  {
   "cell_type": "markdown",
   "metadata": {},
   "source": [
    "Use cross-validation, and together with the analysis on their confusion matrix, explain which of <i>ann1</i> and <i>ann2</i> is better. Show the steps to support your analysis. [1.5 marks]"
   ]
  },
  {
   "cell_type": "markdown",
   "metadata": {},
   "source": [
    "<b>Answers</b>: "
   ]
  },
  {
   "cell_type": "code",
   "execution_count": null,
   "metadata": {},
   "outputs": [],
   "source": [
    "# Code: "
   ]
  },
  {
   "cell_type": "markdown",
   "metadata": {},
   "source": [
    "## Question 3. Decision Tree (12 marks)"
   ]
  },
  {
   "cell_type": "markdown",
   "metadata": {},
   "source": [
    "### 3a. Build and evaluate your first decision tree (i.e. dt1)\n",
    "\n",
    "Show the steps to build and train <i>dt1</i> with a depth of 3, using the same settings of data as those for <i>ann1</i> in Question 2a.<br>\n",
    "Calculate the accuracy of <i>dt1</i> on the training data and testing data, respectively. Explain if <i>dt1</i> is a good model on classifying new customers. [1 mark]"
   ]
  },
  {
   "cell_type": "markdown",
   "metadata": {},
   "source": [
    "<b>Answers</b>: "
   ]
  },
  {
   "cell_type": "code",
   "execution_count": null,
   "metadata": {},
   "outputs": [],
   "source": [
    "# Code: "
   ]
  },
  {
   "cell_type": "markdown",
   "metadata": {},
   "source": [
    "Print and explain the confusion matrix of <i>dt1</i>. Is <i>dt1</i> good at predicting 'good' or 'bad' customers? [0.5 marks]"
   ]
  },
  {
   "cell_type": "markdown",
   "metadata": {},
   "source": [
    "<b>Answers</b>: "
   ]
  },
  {
   "cell_type": "code",
   "execution_count": null,
   "metadata": {},
   "outputs": [],
   "source": [
    "# Code: "
   ]
  },
  {
   "cell_type": "markdown",
   "metadata": {},
   "source": [
    "### 3b. Build another decision tree (i.e. dt2)\n",
    "Remove one input feature from the data and show your steps to build <i>dt2</i> with the reduced data. Observe and explain which input feature affects the accuracy of <i>dt2</i> the most (using k-fold cross-validation). [2 marks]"
   ]
  },
  {
   "cell_type": "markdown",
   "metadata": {},
   "source": [
    "<b>Answers</b>: "
   ]
  },
  {
   "cell_type": "code",
   "execution_count": null,
   "metadata": {},
   "outputs": [],
   "source": [
    "# Code: "
   ]
  },
  {
   "cell_type": "markdown",
   "metadata": {},
   "source": [
    "Show the confusion matrix of <i>dt2</i> and compare it with that of <i>dt1</i>. How accurate is <i>dt1</i> and <i>dt2</i> (% accuracy) predicting 'bad' customers, respectively? [2 marks]"
   ]
  },
  {
   "cell_type": "markdown",
   "metadata": {},
   "source": [
    "<b>Answers</b>: "
   ]
  },
  {
   "cell_type": "code",
   "execution_count": null,
   "metadata": {},
   "outputs": [],
   "source": [
    "# Code: "
   ]
  },
  {
   "cell_type": "markdown",
   "metadata": {},
   "source": [
    "In practice, would bank managers prefer <i>dt1</i> or <i>dt2</i>, i.e. which one is better at predicting 'good' or 'bad' customers? [1 mark]"
   ]
  },
  {
   "cell_type": "markdown",
   "metadata": {},
   "source": [
    "<b>Answers</b>: "
   ]
  },
  {
   "cell_type": "markdown",
   "metadata": {},
   "source": [
    "### 3c. Tuning your decision decision trees"
   ]
  },
  {
   "cell_type": "markdown",
   "metadata": {},
   "source": [
    "Experiment with different depths (2~8) of either <i>dt1</i> or <i>dt2</i>. Plot using appropriate method the tree depth against its corresponding accruacy evaluated by cross-validation. [2 marks]"
   ]
  },
  {
   "cell_type": "markdown",
   "metadata": {},
   "source": [
    "<b>Answers</b>: "
   ]
  },
  {
   "cell_type": "code",
   "execution_count": null,
   "metadata": {},
   "outputs": [],
   "source": [
    "# Code: "
   ]
  },
  {
   "cell_type": "markdown",
   "metadata": {},
   "source": [
    "In real-life, which tree depth would you select for better and easier decision making? Breifly explain the reasons. [0.5 marks]"
   ]
  },
  {
   "cell_type": "markdown",
   "metadata": {},
   "source": [
    "<b>Answers</b>: "
   ]
  },
  {
   "cell_type": "markdown",
   "metadata": {},
   "source": [
    "### 3d. Decision making with the decision tree"
   ]
  },
  {
   "cell_type": "markdown",
   "metadata": {},
   "source": [
    "Visualise your best decision tree model. Extract and explain one example rule from the tree (with regard to its branches and nodes). [1.5 marks]"
   ]
  },
  {
   "cell_type": "markdown",
   "metadata": {},
   "source": [
    "<b>Answers</b>: "
   ]
  },
  {
   "cell_type": "code",
   "execution_count": null,
   "metadata": {},
   "outputs": [],
   "source": [
    "# Code: "
   ]
  },
  {
   "cell_type": "markdown",
   "metadata": {},
   "source": [
    "A new <i>customer A</i> of age 40 with <font color = \"red\">CreditAmount</font> of 2000 applied to a loan. According to your best decision tree, should the bank manager grant the loan? Explain your reasoning with regard to the tree nodes and branches. [0.5 marks]<br>\n",
    "Note: a typo corrected on 26/03/2021: <i>CheckAmount</i> is changed to <i>CreditAmount</i> in Question 3d."
   ]
  },
  {
   "cell_type": "markdown",
   "metadata": {},
   "source": [
    "<b>Answers</b>: "
   ]
  },
  {
   "cell_type": "markdown",
   "metadata": {},
   "source": [
    "Based on your above analysis, is decision tree better than neural networks models? Which machine learning model would you recommend the bank manager to use? Why? [1 mark]"
   ]
  },
  {
   "cell_type": "markdown",
   "metadata": {},
   "source": [
    "<b>Answers</b>: "
   ]
  },
  {
   "cell_type": "markdown",
   "metadata": {},
   "source": [
    "## Appendix. Coursework Instructions\n",
    "\n",
    "## Introduction\n",
    "\n",
    "<b>Main tasks</b>: to build and analyse decision trees and neural networks for a classification task. Support of coursework include:\n",
    "- Lab demos of data processing and machine learning models using different functions and methods in Python for different example problems;\n",
    "- Example code building and analysing machine learning models, referring to content in COMP1008 on “Machine learning”.\n",
    "- Q&A support for exercises in the labs to build different models using different methods / functions on example problems.\n",
    "- In Teams channel 'COMP1008 Coursework': support of common questions in completing the coursework.\n",
    "\n",
    "<b>Marks</b>: in total 25 marks, allocated on the basis of:\n",
    "- knowledge and understanding showed when answering the questions in the Jupyter file report,\n",
    "- how informative and well presented your code, visualisations and results are,\n",
    "- self-learning ability making use of online resources,\n",
    "- problem solving skills to achieve the answers and results,\n",
    "- concise language and ease of reading, i.e. just enough details for others to repeat your methods and obtain the same results.\n",
    "\n",
    "<b>Format</b>:\n",
    "- One single .ipynb file named COMP1008cw-XXX.ipynb, where XXX is your username (e.g. psxyz). The .ipynb file should include your code and answers, using the above given .ipynb template (add markdown and code cells as needed).\n",
    "- You could use additional Python libraries as you wish, in addition to the ones demonstrated in the labs.\n",
    "- To answer the questions in the COMP1008 coursework, there are multiple ways using different functions / methods to support the analysis. All answers and analysis should be supported by the code implemented in Jupyter Notebook, not by using other means (e.g. Excel, other languages, etc.).\n",
    "- More details are given in the <a href=\"https://moodle.nottingham.ac.uk/pluginfile.php/7184288/mod_tabbedcontent/tabcontent/21279/Assessment%20Sheet%20COMP1008.docx\">COMP1008 coursework issue form</a>.\n",
    "\n",
    "<b>Submission</b>: \n",
    "- Deadline: 23rd April 2021. Late submission leads to a 10% deduction of your coursework mark on each weekday. Any work submitted one week late will receive a zero mark for the coursework.\n",
    "- Procedure: in Moodle submit a single .ipynb file named COMP1008cw-XXX.ipynb, where XXX is your username (e.g. psxyz).\n",
    "- If you can’t submit your coursework on time due to Extenuating Circumstances, please contact Student Services and your personal tutor ASAP."
   ]
  },
  {
   "cell_type": "markdown",
   "metadata": {},
   "source": [
    "### Plagiarism vs. Group Discussions\n",
    "\n",
    "As you should know, plagiarism is completely unacceptable and will be dealt with according to University's standard policies. Students are encouraged to have only general discussions regarding the theory (not the specific coursework questions) when completing the coursework.\n",
    "\n",
    "It is important that when you actually do your coursework and write the answers, you do it individually. Do NOT, under any circumstances, share your report, code or figures, etc. with anyone else."
   ]
  }
 ],
 "metadata": {
  "kernelspec": {
   "display_name": "Python 3",
   "language": "python",
   "name": "python3"
  },
  "language_info": {
   "codemirror_mode": {
    "name": "ipython",
    "version": 3
   },
   "file_extension": ".py",
   "mimetype": "text/x-python",
   "name": "python",
   "nbconvert_exporter": "python",
   "pygments_lexer": "ipython3",
   "version": "3.8.5"
  }
 },
 "nbformat": 4,
 "nbformat_minor": 4
}
